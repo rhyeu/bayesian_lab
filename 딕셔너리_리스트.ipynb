{
  "nbformat": 4,
  "nbformat_minor": 0,
  "metadata": {
    "colab": {
      "name": "딕셔너리 / 리스트.ipynb",
      "version": "0.3.2",
      "provenance": [],
      "include_colab_link": true
    },
    "kernelspec": {
      "name": "python3",
      "display_name": "Python 3"
    }
  },
  "cells": [
    {
      "cell_type": "markdown",
      "metadata": {
        "id": "view-in-github",
        "colab_type": "text"
      },
      "source": [
        "<a href=\"https://colab.research.google.com/github/rhyeu/bayesian_lab/blob/master/%EB%94%95%EC%85%94%EB%84%88%EB%A6%AC_%EB%A6%AC%EC%8A%A4%ED%8A%B8.ipynb\" target=\"_parent\"><img src=\"https://colab.research.google.com/assets/colab-badge.svg\" alt=\"Open In Colab\"/></a>"
      ]
    },
    {
      "cell_type": "markdown",
      "metadata": {
        "id": "9NfHkYys-3BL",
        "colab_type": "text"
      },
      "source": [
        "## 딕셔너리란?\n",
        "    - 대응 관계 자료형\n",
        "    - 뒷면에 그림(value)이 그려진 영단어(key) 카드를 주머니 넣는 것과 비슷\n",
        "    - 리스트에는 순서가 있지만 딕셔너리에는 순서가 없음\n",
        "    - 딕셔너리에서는 리스트와 같은 연산은 안 됨\n",
        "    - 리스트에는 뭐든 들어갈 수 있으니 딕셔너리도 리스트의 원소로 쓸 수 있다."
      ]
    },
    {
      "cell_type": "code",
      "metadata": {
        "id": "kD0CIJFcAQku",
        "colab_type": "code",
        "colab": {
          "base_uri": "https://localhost:8080/",
          "height": 35
        },
        "outputId": "68c039c0-6db0-4da2-a09f-4351819578ee"
      },
      "source": [
        "purse = dict()\n",
        "purse['money'] = 12\n",
        "purse['candy'] = 3\n",
        "purse['tissues'] = 75\n",
        "print(purse)"
      ],
      "execution_count": 18,
      "outputs": [
        {
          "output_type": "stream",
          "text": [
            "{'money': 12, 'candy': 3, 'tissues': 75}\n"
          ],
          "name": "stdout"
        }
      ]
    },
    {
      "cell_type": "code",
      "metadata": {
        "id": "DE-qFhBWAWKl",
        "colab_type": "code",
        "colab": {
          "base_uri": "https://localhost:8080/",
          "height": 35
        },
        "outputId": "bc41d722-b219-411f-b597-ca9cdd932031"
      },
      "source": [
        "purse2 = {'tissues' : 75,\n",
        "         'candy' : 3,\n",
        "         'money' : 12}\n",
        "print(purse2)"
      ],
      "execution_count": 19,
      "outputs": [
        {
          "output_type": "stream",
          "text": [
            "{'tissues': 75, 'candy': 3, 'money': 12}\n"
          ],
          "name": "stdout"
        }
      ]
    },
    {
      "cell_type": "code",
      "metadata": {
        "id": "w46nwDmkAnM9",
        "colab_type": "code",
        "colab": {
          "base_uri": "https://localhost:8080/",
          "height": 35
        },
        "outputId": "7693a2ff-5116-47e3-bcbc-bd2550e6ba9e"
      },
      "source": [
        "purse['candy'] "
      ],
      "execution_count": 20,
      "outputs": [
        {
          "output_type": "execute_result",
          "data": {
            "text/plain": [
              "3"
            ]
          },
          "metadata": {
            "tags": []
          },
          "execution_count": 20
        }
      ]
    },
    {
      "cell_type": "code",
      "metadata": {
        "id": "BySMcMuvAxSA",
        "colab_type": "code",
        "colab": {
          "base_uri": "https://localhost:8080/",
          "height": 35
        },
        "outputId": "35b49b0a-84e3-4e53-c355-207014cc7078"
      },
      "source": [
        "purse2['candy'] # 순서 무관"
      ],
      "execution_count": 21,
      "outputs": [
        {
          "output_type": "execute_result",
          "data": {
            "text/plain": [
              "3"
            ]
          },
          "metadata": {
            "tags": []
          },
          "execution_count": 21
        }
      ]
    },
    {
      "cell_type": "markdown",
      "metadata": {
        "id": "ppQ1HZY2BLH2",
        "colab_type": "text"
      },
      "source": [
        "#### 딕셔너리 값 가져오기"
      ]
    },
    {
      "cell_type": "code",
      "metadata": {
        "id": "UHvcl3IxBBvF",
        "colab_type": "code",
        "colab": {
          "base_uri": "https://localhost:8080/",
          "height": 35
        },
        "outputId": "4e5afb7a-a5ec-4473-cb3f-06bc7c828a7a"
      },
      "source": [
        "purse.keys()"
      ],
      "execution_count": 22,
      "outputs": [
        {
          "output_type": "execute_result",
          "data": {
            "text/plain": [
              "dict_keys(['money', 'candy', 'tissues'])"
            ]
          },
          "metadata": {
            "tags": []
          },
          "execution_count": 22
        }
      ]
    },
    {
      "cell_type": "code",
      "metadata": {
        "id": "92bkyvUlBE4v",
        "colab_type": "code",
        "colab": {
          "base_uri": "https://localhost:8080/",
          "height": 35
        },
        "outputId": "4ed6b2a2-e4c9-435b-bc8f-9356e8dedfe2"
      },
      "source": [
        "purse.values()"
      ],
      "execution_count": 23,
      "outputs": [
        {
          "output_type": "execute_result",
          "data": {
            "text/plain": [
              "dict_values([12, 3, 75])"
            ]
          },
          "metadata": {
            "tags": []
          },
          "execution_count": 23
        }
      ]
    },
    {
      "cell_type": "code",
      "metadata": {
        "id": "SBJf7WxTBIzG",
        "colab_type": "code",
        "colab": {
          "base_uri": "https://localhost:8080/",
          "height": 35
        },
        "outputId": "bbe037da-e2a2-49af-e764-7e6f581b4d55"
      },
      "source": [
        "purse.items()"
      ],
      "execution_count": 24,
      "outputs": [
        {
          "output_type": "execute_result",
          "data": {
            "text/plain": [
              "dict_items([('money', 12), ('candy', 3), ('tissues', 75)])"
            ]
          },
          "metadata": {
            "tags": []
          },
          "execution_count": 24
        }
      ]
    },
    {
      "cell_type": "markdown",
      "metadata": {
        "id": "E6QChBCyBPOG",
        "colab_type": "text"
      },
      "source": [
        "### 딕셔너리 값 수정"
      ]
    },
    {
      "cell_type": "code",
      "metadata": {
        "id": "m7mWcXJnBRGy",
        "colab_type": "code",
        "colab": {
          "base_uri": "https://localhost:8080/",
          "height": 35
        },
        "outputId": "2944f397-9bdc-490d-d5ed-48ee505f6ce9"
      },
      "source": [
        "purse[\"candy\"] = purse[\"candy\"]+2\n",
        "print(purse)"
      ],
      "execution_count": 25,
      "outputs": [
        {
          "output_type": "stream",
          "text": [
            "{'money': 12, 'candy': 5, 'tissues': 75}\n"
          ],
          "name": "stdout"
        }
      ]
    },
    {
      "cell_type": "markdown",
      "metadata": {
        "id": "b8-HQRFHBlte",
        "colab_type": "text"
      },
      "source": [
        "### 딕셔너리는 연산 불가"
      ]
    },
    {
      "cell_type": "code",
      "metadata": {
        "id": "VbYxlM9MBX8W",
        "colab_type": "code",
        "colab": {
          "base_uri": "https://localhost:8080/",
          "height": 172
        },
        "outputId": "963993a7-5aae-4a1d-f050-58cd3d481117"
      },
      "source": [
        "purse + purse2"
      ],
      "execution_count": 27,
      "outputs": [
        {
          "output_type": "error",
          "ename": "TypeError",
          "evalue": "ignored",
          "traceback": [
            "\u001b[0;31m---------------------------------------------------------------------------\u001b[0m",
            "\u001b[0;31mTypeError\u001b[0m                                 Traceback (most recent call last)",
            "\u001b[0;32m<ipython-input-27-b23794108f7e>\u001b[0m in \u001b[0;36m<module>\u001b[0;34m()\u001b[0m\n\u001b[0;32m----> 1\u001b[0;31m \u001b[0mpurse\u001b[0m \u001b[0;34m+\u001b[0m \u001b[0mpurse2\u001b[0m\u001b[0;34m\u001b[0m\u001b[0;34m\u001b[0m\u001b[0m\n\u001b[0m",
            "\u001b[0;31mTypeError\u001b[0m: unsupported operand type(s) for +: 'dict' and 'dict'"
          ]
        }
      ]
    },
    {
      "cell_type": "code",
      "metadata": {
        "id": "QG-KX-yBBjch",
        "colab_type": "code",
        "colab": {
          "base_uri": "https://localhost:8080/",
          "height": 172
        },
        "outputId": "f4b5759e-077e-43d0-d956-38f97973e1a4"
      },
      "source": [
        "purse *2"
      ],
      "execution_count": 28,
      "outputs": [
        {
          "output_type": "error",
          "ename": "TypeError",
          "evalue": "ignored",
          "traceback": [
            "\u001b[0;31m---------------------------------------------------------------------------\u001b[0m",
            "\u001b[0;31mTypeError\u001b[0m                                 Traceback (most recent call last)",
            "\u001b[0;32m<ipython-input-28-056609513530>\u001b[0m in \u001b[0;36m<module>\u001b[0;34m()\u001b[0m\n\u001b[0;32m----> 1\u001b[0;31m \u001b[0mpurse\u001b[0m \u001b[0;34m*\u001b[0m\u001b[0;36m2\u001b[0m\u001b[0;34m\u001b[0m\u001b[0;34m\u001b[0m\u001b[0m\n\u001b[0m",
            "\u001b[0;31mTypeError\u001b[0m: unsupported operand type(s) for *: 'dict' and 'int'"
          ]
        }
      ]
    },
    {
      "cell_type": "markdown",
      "metadata": {
        "id": "bUX9cc7lB5A-",
        "colab_type": "text"
      },
      "source": [
        "### 리스트에 딕셔너리 값 넣기"
      ]
    },
    {
      "cell_type": "code",
      "metadata": {
        "id": "DvJT8ibVCAQ_",
        "colab_type": "code",
        "colab": {
          "base_uri": "https://localhost:8080/",
          "height": 35
        },
        "outputId": "16eb425b-a2a3-44a4-94b7-5b74e313b54b"
      },
      "source": [
        "classes = dict()\n",
        "classes['bayesian'] = 'A'\n",
        "classes['linear model'] = 'A+'\n",
        "classes['data mining'] = 'A+'\n",
        "\n",
        "a = [purse,classes]\n",
        "print(a[1]['bayesian'])"
      ],
      "execution_count": 29,
      "outputs": [
        {
          "output_type": "stream",
          "text": [
            "A\n"
          ],
          "name": "stdout"
        }
      ]
    },
    {
      "cell_type": "markdown",
      "metadata": {
        "id": "BLTZN_uhCldw",
        "colab_type": "text"
      },
      "source": [
        "#######################"
      ]
    },
    {
      "cell_type": "markdown",
      "metadata": {
        "id": "EMV8-o6ECuTJ",
        "colab_type": "text"
      },
      "source": [
        "## 튜플이란?\n",
        "    \n",
        "- 리스트는 변경 가능(mutable)하지만 튜플은 변경 불가능(immutable)\n",
        "    - '문자열' 자료형과 유사\n",
        "- 리스트에서 가능한 다양한 연산이나 index은 유사\n",
        "- 길이, 내용은 만드는 순간 더 이상 바꾸지 못하지만 용량이 작고 빨리 읽힘\n",
        "- 단순히 값을 저장하고 출력하는 용도로는 튜플이 유용\n",
        "- dict.item()은 여러 튜플들을 원소로 하는 리스트가 나타남."
      ]
    },
    {
      "cell_type": "markdown",
      "metadata": {
        "id": "rXG2kqRNFWgY",
        "colab_type": "text"
      },
      "source": [
        "### 튜플도 리스트와 같이 인덱싱, 슬라이싱, 연산, 대소비교 가능"
      ]
    },
    {
      "cell_type": "code",
      "metadata": {
        "id": "n-ZFQuNtFV9z",
        "colab_type": "code",
        "colab": {
          "base_uri": "https://localhost:8080/",
          "height": 35
        },
        "outputId": "cf1696df-b900-4ea4-b98d-4ac66564db34"
      },
      "source": [
        "a=(1,2,3)\n",
        "b=(4,5,6)\n",
        "c=a+b\n",
        "print(c)"
      ],
      "execution_count": 43,
      "outputs": [
        {
          "output_type": "stream",
          "text": [
            "(1, 2, 3, 4, 5, 6)\n"
          ],
          "name": "stdout"
        }
      ]
    },
    {
      "cell_type": "code",
      "metadata": {
        "id": "8es2Wcr9F0QR",
        "colab_type": "code",
        "colab": {
          "base_uri": "https://localhost:8080/",
          "height": 35
        },
        "outputId": "76780236-a7b9-4965-ca58-4c891a19dab4"
      },
      "source": [
        "t = (9, 41, 12, 3, 74, 15)\n",
        "t[1:3] # 3 직전까지"
      ],
      "execution_count": 44,
      "outputs": [
        {
          "output_type": "execute_result",
          "data": {
            "text/plain": [
              "(41, 12)"
            ]
          },
          "metadata": {
            "tags": []
          },
          "execution_count": 44
        }
      ]
    },
    {
      "cell_type": "code",
      "metadata": {
        "id": "DBsYIi4WF6pp",
        "colab_type": "code",
        "colab": {
          "base_uri": "https://localhost:8080/",
          "height": 35
        },
        "outputId": "8912d71d-c718-4728-f54d-6de632b9c68c"
      },
      "source": [
        "print(t+t)"
      ],
      "execution_count": 45,
      "outputs": [
        {
          "output_type": "stream",
          "text": [
            "(9, 41, 12, 3, 74, 15, 9, 41, 12, 3, 74, 15)\n"
          ],
          "name": "stdout"
        }
      ]
    },
    {
      "cell_type": "code",
      "metadata": {
        "id": "h0CdyO0DF8zl",
        "colab_type": "code",
        "colab": {
          "base_uri": "https://localhost:8080/",
          "height": 35
        },
        "outputId": "5f2a6253-91d2-4224-db1c-a1d9a3bcd897"
      },
      "source": [
        "print(t*2)"
      ],
      "execution_count": 46,
      "outputs": [
        {
          "output_type": "stream",
          "text": [
            "(9, 41, 12, 3, 74, 15, 9, 41, 12, 3, 74, 15)\n"
          ],
          "name": "stdout"
        }
      ]
    },
    {
      "cell_type": "code",
      "metadata": {
        "id": "QKQw9JumGOWq",
        "colab_type": "code",
        "colab": {
          "base_uri": "https://localhost:8080/",
          "height": 35
        },
        "outputId": "0eb418d1-ecc1-4d87-9f5e-b6c674608b53"
      },
      "source": [
        "[0, 1, 20000] < [0,3,4]"
      ],
      "execution_count": 47,
      "outputs": [
        {
          "output_type": "execute_result",
          "data": {
            "text/plain": [
              "True"
            ]
          },
          "metadata": {
            "tags": []
          },
          "execution_count": 47
        }
      ]
    },
    {
      "cell_type": "code",
      "metadata": {
        "id": "J3taVTE9GQI2",
        "colab_type": "code",
        "colab": {
          "base_uri": "https://localhost:8080/",
          "height": 35
        },
        "outputId": "5797b1e5-d926-4125-f732-152d996528aa"
      },
      "source": [
        "(0, 1, 20000) < (0,3,4)"
      ],
      "execution_count": 48,
      "outputs": [
        {
          "output_type": "execute_result",
          "data": {
            "text/plain": [
              "True"
            ]
          },
          "metadata": {
            "tags": []
          },
          "execution_count": 48
        }
      ]
    },
    {
      "cell_type": "code",
      "metadata": {
        "id": "AfPw0rHOGU2t",
        "colab_type": "code",
        "colab": {
          "base_uri": "https://localhost:8080/",
          "height": 35
        },
        "outputId": "52aa90dd-6faa-469a-c0ee-fa35070661c0"
      },
      "source": [
        "    ('Lee', \"Rhyeu\", \"Park\") < (\"Rhyeu\", 'Lee', \"Park\")"
      ],
      "execution_count": 49,
      "outputs": [
        {
          "output_type": "execute_result",
          "data": {
            "text/plain": [
              "True"
            ]
          },
          "metadata": {
            "tags": []
          },
          "execution_count": 49
        }
      ]
    },
    {
      "cell_type": "code",
      "metadata": {
        "id": "Nb1r70b-GV1F",
        "colab_type": "code",
        "colab": {}
      },
      "source": [
        "('Lee', \"Rhyeu\", \"Park\") < ('Lee', \"Park\", \"Rhyeu\")"
      ],
      "execution_count": 0,
      "outputs": []
    },
    {
      "cell_type": "markdown",
      "metadata": {
        "id": "Vwaa0CvBF_rG",
        "colab_type": "text"
      },
      "source": [
        "### 하지만 튜플은 수정이 불가(immutable)"
      ]
    },
    {
      "cell_type": "code",
      "metadata": {
        "id": "mxAG7h0EDYwh",
        "colab_type": "code",
        "colab": {
          "base_uri": "https://localhost:8080/",
          "height": 35
        },
        "outputId": "c9104e46-ed24-43d4-f193-fb8a1cde8dc4"
      },
      "source": [
        "x = [9,8,7]\n",
        "x[2] = 6\n",
        "print(x)"
      ],
      "execution_count": 38,
      "outputs": [
        {
          "output_type": "stream",
          "text": [
            "[9, 8, 6]\n"
          ],
          "name": "stdout"
        }
      ]
    },
    {
      "cell_type": "code",
      "metadata": {
        "id": "kTVIB_srDdiJ",
        "colab_type": "code",
        "colab": {
          "base_uri": "https://localhost:8080/",
          "height": 190
        },
        "outputId": "4322348e-3956-4374-a0f7-6ed6e5facf5f"
      },
      "source": [
        "z = (5, 4, 3)\n",
        "z[2] = 0"
      ],
      "execution_count": 40,
      "outputs": [
        {
          "output_type": "error",
          "ename": "TypeError",
          "evalue": "ignored",
          "traceback": [
            "\u001b[0;31m---------------------------------------------------------------------------\u001b[0m",
            "\u001b[0;31mTypeError\u001b[0m                                 Traceback (most recent call last)",
            "\u001b[0;32m<ipython-input-40-9fff87775786>\u001b[0m in \u001b[0;36m<module>\u001b[0;34m()\u001b[0m\n\u001b[1;32m      1\u001b[0m \u001b[0mz\u001b[0m \u001b[0;34m=\u001b[0m \u001b[0;34m(\u001b[0m\u001b[0;36m5\u001b[0m\u001b[0;34m,\u001b[0m \u001b[0;36m4\u001b[0m\u001b[0;34m,\u001b[0m \u001b[0;36m3\u001b[0m\u001b[0;34m)\u001b[0m\u001b[0;34m\u001b[0m\u001b[0;34m\u001b[0m\u001b[0m\n\u001b[0;32m----> 2\u001b[0;31m \u001b[0mz\u001b[0m\u001b[0;34m[\u001b[0m\u001b[0;36m2\u001b[0m\u001b[0;34m]\u001b[0m \u001b[0;34m=\u001b[0m \u001b[0;36m0\u001b[0m\u001b[0;34m\u001b[0m\u001b[0;34m\u001b[0m\u001b[0m\n\u001b[0m",
            "\u001b[0;31mTypeError\u001b[0m: 'tuple' object does not support item assignment"
          ]
        }
      ]
    },
    {
      "cell_type": "code",
      "metadata": {
        "id": "q6nHnpkUDjtJ",
        "colab_type": "code",
        "colab": {
          "base_uri": "https://localhost:8080/",
          "height": 35
        },
        "outputId": "bd4e2d8b-e467-48d9-bac2-b253233328e2"
      },
      "source": [
        "x.sort() # 오름차순\n",
        "x.append(5)\n",
        "x.reverse()\n",
        "print(x)"
      ],
      "execution_count": 36,
      "outputs": [
        {
          "output_type": "stream",
          "text": [
            "[5, 9, 8, 6]\n"
          ],
          "name": "stdout"
        }
      ]
    },
    {
      "cell_type": "code",
      "metadata": {
        "id": "g-hYc8KRDhBx",
        "colab_type": "code",
        "colab": {
          "base_uri": "https://localhost:8080/",
          "height": 226
        },
        "outputId": "7959ed55-5d13-42e4-e50c-bb2ea06934d4"
      },
      "source": [
        "t = (3, 2, 1)\n",
        "t.sort()\n",
        "t.append(5)\n",
        "t.reverse()"
      ],
      "execution_count": 39,
      "outputs": [
        {
          "output_type": "error",
          "ename": "AttributeError",
          "evalue": "ignored",
          "traceback": [
            "\u001b[0;31m---------------------------------------------------------------------------\u001b[0m",
            "\u001b[0;31mAttributeError\u001b[0m                            Traceback (most recent call last)",
            "\u001b[0;32m<ipython-input-39-67963066524c>\u001b[0m in \u001b[0;36m<module>\u001b[0;34m()\u001b[0m\n\u001b[1;32m      1\u001b[0m \u001b[0mt\u001b[0m \u001b[0;34m=\u001b[0m \u001b[0;34m(\u001b[0m\u001b[0;36m3\u001b[0m\u001b[0;34m,\u001b[0m \u001b[0;36m2\u001b[0m\u001b[0;34m,\u001b[0m \u001b[0;36m1\u001b[0m\u001b[0;34m)\u001b[0m\u001b[0;34m\u001b[0m\u001b[0;34m\u001b[0m\u001b[0m\n\u001b[0;32m----> 2\u001b[0;31m \u001b[0mt\u001b[0m\u001b[0;34m.\u001b[0m\u001b[0msort\u001b[0m\u001b[0;34m(\u001b[0m\u001b[0;34m)\u001b[0m\u001b[0;34m\u001b[0m\u001b[0;34m\u001b[0m\u001b[0m\n\u001b[0m\u001b[1;32m      3\u001b[0m \u001b[0mt\u001b[0m\u001b[0;34m.\u001b[0m\u001b[0mappend\u001b[0m\u001b[0;34m(\u001b[0m\u001b[0;36m5\u001b[0m\u001b[0;34m)\u001b[0m\u001b[0;34m\u001b[0m\u001b[0;34m\u001b[0m\u001b[0m\n\u001b[1;32m      4\u001b[0m \u001b[0mt\u001b[0m\u001b[0;34m.\u001b[0m\u001b[0mreverse\u001b[0m\u001b[0;34m(\u001b[0m\u001b[0;34m)\u001b[0m\u001b[0;34m\u001b[0m\u001b[0;34m\u001b[0m\u001b[0m\n",
            "\u001b[0;31mAttributeError\u001b[0m: 'tuple' object has no attribute 'sort'"
          ]
        }
      ]
    },
    {
      "cell_type": "markdown",
      "metadata": {
        "id": "LUUe5hjJGD4W",
        "colab_type": "text"
      },
      "source": [
        "### 해당 자료형에 적용할 수 있는 메소드 확인"
      ]
    },
    {
      "cell_type": "code",
      "metadata": {
        "id": "DCO0h_6dEEiK",
        "colab_type": "code",
        "colab": {
          "base_uri": "https://localhost:8080/",
          "height": 737
        },
        "outputId": "75a8866f-cd5c-4658-f70f-19058219fb25"
      },
      "source": [
        "# dir(x)\n",
        "# dir(t)\n",
        "# dir(purse)"
      ],
      "execution_count": 51,
      "outputs": [
        {
          "output_type": "execute_result",
          "data": {
            "text/plain": [
              "['__class__',\n",
              " '__contains__',\n",
              " '__delattr__',\n",
              " '__delitem__',\n",
              " '__dir__',\n",
              " '__doc__',\n",
              " '__eq__',\n",
              " '__format__',\n",
              " '__ge__',\n",
              " '__getattribute__',\n",
              " '__getitem__',\n",
              " '__gt__',\n",
              " '__hash__',\n",
              " '__init__',\n",
              " '__init_subclass__',\n",
              " '__iter__',\n",
              " '__le__',\n",
              " '__len__',\n",
              " '__lt__',\n",
              " '__ne__',\n",
              " '__new__',\n",
              " '__reduce__',\n",
              " '__reduce_ex__',\n",
              " '__repr__',\n",
              " '__setattr__',\n",
              " '__setitem__',\n",
              " '__sizeof__',\n",
              " '__str__',\n",
              " '__subclasshook__',\n",
              " 'clear',\n",
              " 'copy',\n",
              " 'fromkeys',\n",
              " 'get',\n",
              " 'items',\n",
              " 'keys',\n",
              " 'pop',\n",
              " 'popitem',\n",
              " 'setdefault',\n",
              " 'update',\n",
              " 'values']"
            ]
          },
          "metadata": {
            "tags": []
          },
          "execution_count": 51
        }
      ]
    },
    {
      "cell_type": "markdown",
      "metadata": {
        "id": "f-AUZt-_GjVG",
        "colab_type": "text"
      },
      "source": [
        "## 튜플과 딕셔너리를 이용해 단어의 빈도수 탐색\n"
      ]
    },
    {
      "cell_type": "markdown",
      "metadata": {
        "id": "2eFtL6tSGn0h",
        "colab_type": "text"
      },
      "source": [
        "### 'get' method "
      ]
    },
    {
      "cell_type": "code",
      "metadata": {
        "id": "XZVyv3dpIowh",
        "colab_type": "code",
        "colab": {
          "base_uri": "https://localhost:8080/",
          "height": 35
        },
        "outputId": "6167f5ed-aee7-4e16-88b8-31e4aa1fd114"
      },
      "source": [
        "## 히스토그램 예제\n",
        "counts = dict()\n",
        "names = ['csev', 'cwen', 'csev', 'zqian', 'cwen']\n",
        "\n",
        "for name in names:\n",
        "    #################\n",
        "    if name not in counts: counts[name] = 1\n",
        "    else : counts[name] = counts[name] + 1\n",
        "    ################\n",
        "print(counts)\n"
      ],
      "execution_count": 53,
      "outputs": [
        {
          "output_type": "stream",
          "text": [
            "{'csev': 2, 'cwen': 2, 'zqian': 1}\n"
          ],
          "name": "stdout"
        }
      ]
    },
    {
      "cell_type": "code",
      "metadata": {
        "id": "OOq2EDt9JSCJ",
        "colab_type": "code",
        "colab": {
          "base_uri": "https://localhost:8080/",
          "height": 35
        },
        "outputId": "e3484c31-6a67-43ae-9c59-2f3573afad21"
      },
      "source": [
        "## get을 사용한 히스토그램 예제\n",
        "\n",
        "counts = dict()\n",
        "names = ['csev', 'cwen', 'csev', 'zqian', 'cwen']\n",
        "\n",
        "for name in names:\n",
        "    counts[name] = counts.get(name, 0) + 1\n",
        "  #  print(counts)\n",
        "print(counts)"
      ],
      "execution_count": 54,
      "outputs": [
        {
          "output_type": "stream",
          "text": [
            "{'csev': 2, 'cwen': 2, 'zqian': 1}\n"
          ],
          "name": "stdout"
        }
      ]
    },
    {
      "cell_type": "markdown",
      "metadata": {
        "id": "_pSO5ht_KNTG",
        "colab_type": "text"
      },
      "source": [
        "### 최다 빈출 단어 찾기"
      ]
    },
    {
      "cell_type": "code",
      "metadata": {
        "id": "23bgAq2IKRwO",
        "colab_type": "code",
        "colab": {
          "base_uri": "https://localhost:8080/",
          "height": 35
        },
        "outputId": "b8237e06-8cfc-4633-c585-73b2c6422c83"
      },
      "source": [
        "import requests\n",
        "\n",
        "### 빈출 상위 10개 단어 찾기\n",
        "\n",
        "## crown file : https://www.py4e.com/code3/clown.txt\n",
        "## intro file : https://www.py4e.com/code3/intro.txt\n",
        "address = [\"https://www.py4e.com/code3/clown.txt\", \"https://www.py4e.com/code3/intro.txt\"]\n",
        "\n",
        "\n",
        "response = requests.get(address[1])\n",
        "lines = response.text\n",
        "\n",
        "#############################\n",
        "\n",
        "words = lines.rstrip()\n",
        "words = words.split()\n",
        "\n",
        "di = dict()\n",
        "\n",
        "for w in words:\n",
        "    # If the key is not there the count is zero\n",
        "    \n",
        "    #------------\n",
        "    #oldcount = di.get(w,0)\n",
        "    #print(w, 'old', oldcount)\n",
        "    #newcount = oldcount + 1\n",
        "    ###di[w] = newcount\n",
        "    #---------------\n",
        "    \n",
        "    # idiom : retieve/create/update counter\n",
        "    di[w] = di.get(w, 0) + 1 # 위의 네 줄을 한 줄에 표시 가능\n",
        "\n",
        "    #print(w, 'new',di[w])\n",
        "    \n",
        "# print(di)\n",
        "############# 여기까지 하면 횟수는 나오지만 정렬은 안됨...\n",
        "\n",
        "## now we want to find the most common word\n",
        "\n",
        "largest = -1 # 카운트는 모두 양수\n",
        "theword = None\n",
        "\n",
        "for k,v in di.items():\n",
        "    # print(k,v)\n",
        "    if v > largest:\n",
        "        largest = v\n",
        "        theword = k # cature/remember the k that was largest\n",
        "        \n",
        "print(theword, largest)"
      ],
      "execution_count": 69,
      "outputs": [
        {
          "output_type": "stream",
          "text": [
            "the 226\n"
          ],
          "name": "stdout"
        }
      ]
    },
    {
      "cell_type": "code",
      "metadata": {
        "id": "qNnQBVYsMBLn",
        "colab_type": "code",
        "colab": {
          "base_uri": "https://localhost:8080/",
          "height": 55
        },
        "outputId": "246a55fb-2dda-4ad1-fe8d-b2f389676b7d"
      },
      "source": [
        "# print(di)"
      ],
      "execution_count": 68,
      "outputs": [
        {
          "output_type": "stream",
          "text": [
            "{'Why': 1, 'should': 4, 'you': 130, 'learn': 14, 'to': 204, 'write': 22, 'programs?': 1, 'Writing': 2, 'programs': 14, '(or': 4, 'programming)': 1, 'is': 112, 'a': 165, 'very': 20, 'creative': 5, 'and': 160, 'rewarding': 2, 'activity.': 2, 'You': 19, 'can': 22, 'for': 46, 'many': 10, 'reasons,': 1, 'ranging': 2, 'from': 17, 'making': 1, 'your': 37, 'living': 1, 'solving': 3, 'difficult': 1, 'data': 8, 'analysis': 3, 'problem': 10, 'having': 4, 'fun': 1, 'helping': 2, 'someone': 3, 'else': 3, 'solve': 7, 'problem.': 5, 'This': 5, 'book': 5, 'assumes': 1, 'that': 68, 'everyone': 2, 'needs': 5, 'know': 12, 'how': 20, 'program,': 3, 'once': 4, 'program': 29, 'will': 34, 'figure': 3, 'out': 4, 'what': 14, 'want': 6, 'do': 14, 'with': 37, 'newfound': 1, 'skills.': 2, 'We': 16, 'are': 43, 'surrounded': 1, 'in': 66, 'our': 22, 'daily': 1, 'lives': 1, 'computers': 11, 'laptops': 1, 'cell': 1, 'phones.': 1, 'think': 4, 'of': 103, 'these': 14, 'as': 25, 'personal': 2, 'assistants': 1, 'who': 4, 'take': 8, 'care': 1, 'things': 5, 'on': 23, 'behalf.': 1, 'The': 20, 'hardware': 4, 'current-day': 1, 'essentially': 1, 'built': 3, 'continuously': 1, 'ask': 4, 'us': 10, 'the': 226, 'question,': 1, 'What': 7, 'would': 12, 'like': 12, 'me': 5, 'next?': 5, 'Programmers': 1, 'add': 1, 'an': 10, 'operating': 1, 'system': 1, 'set': 3, 'applications': 1, 'we': 51, 'end': 9, 'up': 10, 'Personal': 2, 'Digital': 2, 'Assistant': 2, 'quite': 2, 'helpful': 2, 'capable': 1, 'different': 10, 'things.': 1, 'Our': 3, 'fast': 3, 'have': 27, 'vast': 1, 'amounts': 1, 'memory': 6, 'could': 5, 'be': 40, 'if': 9, 'only': 4, 'knew': 2, 'language': 29, 'speak': 7, 'explain': 2, 'computer': 14, 'it': 57, 'next.': 2, 'If': 6, 'this': 19, 'language,': 4, 'tell': 9, 'tasks': 2, 'behalf': 1, 'were': 8, 'repetitive.': 1, 'Interestingly,': 1, 'kinds': 2, 'best': 4, 'often': 3, 'humans': 4, 'find': 3, 'boring': 1, 'mind-numbing.': 1, 'For': 5, 'example,': 4, 'look': 10, 'at': 28, 'first': 13, 'three': 7, 'paragraphs': 2, 'chapter': 2, 'most': 10, 'commonly': 1, 'used': 10, 'word': 13, 'times': 8, 'used.': 1, 'While': 5, 'able': 6, 'read': 6, 'understand': 7, 'words': 14, 'few': 9, 'seconds,': 1, 'counting': 3, 'them': 8, 'almost': 2, 'painful': 1, 'because': 6, 'not': 18, 'kind': 2, 'human': 2, 'minds': 1, 'designed': 1, 'solve.': 1, 'opposite': 1, 'true,': 2, 'reading': 5, 'understanding': 3, 'text': 8, 'piece': 2, 'paper': 1, 'hard': 1, 'but': 21, 'telling': 3, 'was': 8, 'easy': 3, 'computer:': 1, 'information': 6, 'assistant': 1, 'quickly': 2, 'told': 1, 'sixteen': 1, 'chapter.': 1, 'fact': 2, 'good': 5, 'why': 1, 'need': 16, 'become': 2, 'skilled': 2, 'talking': 4, 'language.': 6, 'Once': 2, 'new': 8, 'delegate': 1, 'mundane': 1, 'partner': 1, '(the': 3, 'computer),': 1, 'leaving': 1, 'more': 17, 'time': 6, 'uniquely': 2, 'suited': 1, 'for.': 1, 'bring': 1, 'creativity,': 1, 'intuition,': 1, 'inventiveness': 1, 'partnership.': 1, 'Creativity': 1, 'motivation': 2, 'intended': 3, 'professional': 3, 'programmers,': 3, 'programming': 14, 'job': 2, 'both': 2, 'financially': 1, 'personally.': 1, 'Building': 1, 'useful,': 2, 'elegant,': 1, 'clever': 1, 'others': 1, 'use': 19, 'Your': 2, 'or': 25, '(PDA)': 1, 'usually': 3, 'contains': 1, 'groups': 2, 'each': 3, 'competing': 1, 'attention': 1, 'interest.': 1, 'They': 2, 'try': 6, 'their': 6, 'meet': 1, 'give': 4, 'great': 3, 'user': 3, 'experience': 1, 'process.': 3, 'In': 13, 'some': 14, 'situations,': 1, 'when': 13, 'choose': 1, 'software,': 2, 'programmers': 6, 'directly': 2, 'compensated': 1, 'choice.': 1, 'output': 1, 'perhaps': 5, 'following': 2, 'sensible': 1, 'version': 2, 'PDA:': 1, 'now,': 1, 'primary': 1, 'make': 5, 'money': 1, 'please': 2, 'users,': 1, 'instead': 3, 'productive': 1, 'handling': 1, 'encounter': 2, 'lives.': 1, 'When': 11, 'start,': 1, 'programmer': 4, 'programs.': 5, 'As': 6, 'gain': 1, 'skill': 3, 'feels': 2, 'you,': 2, 'thoughts': 1, 'may': 2, 'turn': 5, 'toward': 1, 'developing': 1, 'others.': 1, 'Computer': 1, 'architecture': 1, 'Before': 3, 'start': 6, 'learning': 5, 'instructions': 11, 'develop': 2, 'small': 2, 'amount': 1, 'about': 9, 'built.': 1, 'Central': 2, 'Processing': 2, 'Unit': 2, 'CPU)': 1, 'part': 2, 'obsessed': 1, 'rated': 1, 'Gigahertz,': 1, 'means': 2, 'CPU': 5, 'billion': 2, 'per': 2, 'second.': 2, 'going': 3, 'talk': 5, 'keep': 2, 'CPU.': 3, 'Main': 1, 'Memory': 2, 'store': 5, 'hurry.': 1, 'main': 4, 'nearly': 1, 'But': 3, 'stored': 3, 'vanishes': 1, 'turned': 1, 'off.': 1, 'Secondary': 2, 'also': 3, 'information,': 1, 'much': 7, 'slower': 2, 'than': 5, 'memory.': 1, 'advantage': 1, 'secondary': 3, 'even': 10, 'there': 8, 'no': 7, 'power': 1, 'computer.': 4, 'Examples': 1, 'disk': 1, 'drives': 1, 'flash': 1, '(typically': 1, 'found': 1, 'USB': 1, 'sticks': 1, 'portable': 2, 'music': 2, 'players).': 1, 'Input': 1, 'Output': 1, 'Devices': 1, 'simply': 8, 'screen,': 1, 'keyboard,': 1, 'mouse,': 1, 'microphone,': 1, 'speaker,': 1, 'touchpad,': 1, 'etc.': 1, 'all': 8, 'ways': 1, 'interact': 1, 'These': 5, 'days,': 1, 'Network': 1, 'Connection': 1, 'retrieve': 5, 'over': 6, 'network.': 1, 'network': 2, 'slow': 1, 'place': 1, 'might': 6, 'always': 1, 'up.': 1, 'So': 6, 'sense,': 3, 'unreliable': 1, 'form': 1, 'Memory.': 1, 'detail': 2, 'components': 1, 'work': 1, 'left': 4, 'builders,': 1, 'helps': 1, 'terminology': 1, 'so': 11, 'parts': 1, 'programmer,': 4, 'orchestrate': 1, 'resources': 1, 'analyze': 1, 'get': 6, 'solution.': 1, 'mostly': 1, 'Sometimes': 1, 'memory,': 2, 'network,': 1, 'input/output': 1, 'devices.': 1, 'person': 3, 'answers': 1, \"CPU's\": 1, 'question.': 1, 'uncomfortable': 1, 'shrink': 1, 'down': 3, 'five': 2, 'mm': 1, 'tall': 1, 'insert': 1, 'into': 10, 'just': 11, 'issue': 1, 'command': 3, 'instead,': 1, 'must': 3, 'advance.': 1, 'call': 5, 'act': 1, 'writing': 6, 'getting': 2, 'correct': 3, 'programming.': 3, 'Understanding': 1, 'rest': 2, 'book,': 2, 'art': 3, '---': 1, 'least': 1, 'skills': 3, 'data/information': 1, 'two': 3, 'programmer:': 1, 'First,': 1, '(Python)': 1, '-': 1, 'vocabulary': 7, 'grammar.': 1, 'spell': 1, 'properly': 1, 'construct': 2, 'well-formed': 1, 'sentences': 7, 'Second,': 1, 'story.': 1, 'story,': 2, 'combine': 1, 'convey': 1, 'idea': 1, 'reader.': 1, 'There': 3, 'constructing': 1, 'story': 4, 'improved': 1, 'by': 12, 'doing': 4, 'feedback.': 1, 'programming,': 1, 'trying': 3, 'idea.': 1, 'itemize': 1, 'one': 10, 'such': 2, 'Python,': 5, 'easier': 1, 'second': 2, 'JavaScript': 2, 'C++.': 1, 'has': 5, 'grammar': 2, 'problem-solving': 1, 'same': 2, 'across': 2, 'languages.': 3, 'Python': 85, 'pretty': 2, 'quickly.': 1, 'It': 10, 'longer': 1, 'coherent': 1, 'brand-new': 1, 'teach': 3, 'writing.': 1, 'explaining': 1, 'programs,': 4, 'then': 9, 'simple': 12, 'increasingly': 2, 'complex': 4, 'time.': 4, 'At': 3, 'point': 4, 'muse': 1, 'see': 5, 'patterns': 3, 'own': 2, 'naturally': 1, 'solves': 1, 'And': 4, 'point,': 3, 'becomes': 1, 'pleasant': 1, 'structure': 2, 'Be': 1, 'patient': 1, 'examples': 1, 'remind': 1, 'started': 1, 'Words': 1, 'Unlike': 1, 'languages,': 1, 'actually': 4, 'small.': 1, 'reserved': 10, 'words.': 2, 'special': 2, 'meaning': 3, 'Python.': 8, 'sees': 1, 'they': 10, 'Later': 1, 'called': 4, 'variables.': 1, 'latitude': 1, 'choosing': 2, 'names': 2, 'variables,': 1, 'cannot': 2, 'any': 3, \"Python's\": 3, 'name': 5, 'variable.': 1, 'train': 1, 'dog,': 3, 'sit,': 1, 'stay,': 1, 'fetch.': 1, 'dog': 2, \"don't\": 6, 'words,': 1, 'quizzical': 1, 'face': 2, 'until': 1, 'say': 11, 'word.': 1, 'say,': 3, 'I': 11, 'wish': 1, 'people': 1, 'walk': 4, 'improve': 1, 'overall': 1, 'health,': 1, 'dogs': 1, 'likely': 3, 'hear': 1, 'is,': 1, 'blah': 6, 'blah.': 1, 'That': 5, 'where': 5, 'include': 2, 'following:': 1, 'del': 1, 'while': 4, 'elif': 1, 'global': 1, 'assert': 1, 'pass': 1, 'yield': 1, 'break': 1, 'except': 2, 'import': 1, 'print': 4, 'class': 1, 'exec': 1, 'raise': 1, 'continue': 1, 'finally': 1, 'return': 1, 'def': 1, 'lambda': 1, 'it,': 4, 'unlike': 1, 'already': 2, 'completely': 2, 'trained.': 1, 'try,': 1, 'every': 2, 'without': 2, 'fail.': 1, 'time,': 2, 'now': 2, 'focus': 1, 'equivalent': 1, '(in': 1, 'human-to-dog': 1, 'language).': 1, 'nice': 2, 'thing': 1, 'giving': 3, 'message': 1, 'quotes:': 1, 'written': 10, 'syntactically': 3, 'sentence.': 1, 'sentence': 4, 'starts': 1, 'followed': 2, 'string': 1, 'enclosed': 1, 'single': 1, 'quotes.': 1, 'Conversing': 1, 'Now': 2, 'conversation': 7, 'test': 1, 'converse': 1, 'install': 1, 'software': 1, 'too': 2, 'suggest': 1, 'consult': 1, 'www.py4e.com': 1, 'detailed': 1, 'screencasts': 1, 'setting': 1, 'starting': 2, 'Macintosh': 1, 'Windows': 3, 'systems.': 1, 'terminal': 1, 'window': 1, 'type': 6, 'python': 2, 'interpreter': 12, 'executing': 1, 'interactive': 3, 'mode': 2, 'appear': 1, 'somewhat': 1, 'follows:': 2, '>>>': 1, 'prompt': 1, \"interpreter's\": 1, 'way': 6, 'asking': 1, 'ready': 3, 'you.': 1, 'All': 1, \"Let's\": 1, 'example': 4, 'did': 2, 'simplest': 1, 'sentences.': 1, 'standard': 1, 'line': 6, 'astronauts': 1, 'land': 1, 'faraway': 1, 'planet': 2, 'inhabitants': 3, 'planet:': 1, 'well.': 1, 'Unless': 1, 'something': 7, 'quickly,': 1, 'stab': 1, 'spears,': 1, 'put': 4, 'spit,': 1, 'roast': 1, 'fire,': 1, 'eat': 1, 'dinner.': 1, 'realize': 2, 'amazingly': 1, 'powerful': 2, 'picky': 1, 'syntax': 7, 'communicate': 2, 'intelligent.': 1, 'really': 3, 'yourself,': 1, 'using': 4, 'proper': 2, 'syntax.': 1, 'between': 3, 'those': 5, 'other': 2, 'acting': 2, 'intermediary.': 1, 'creators': 1, 'express': 1, 'supposed': 1, 'proceed.': 1, 'chapters,': 2, 'users': 1, 'program.': 8, 'leave': 1, 'interpreter,': 1, 'probably': 1, 'good-bye': 1, 'interacting': 1, 'Planet': 1, 'Python:': 1, 'notice': 2, 'error': 8, 'incorrect': 1, 'attempts.': 1, 'saw': 2, 'thought': 1, 'got': 1, 'wrong.': 1, 'Terminology:': 1, 'compiler': 3, 'high-level': 9, 'relatively': 1, 'straightforward': 1, 'Other': 1, 'languages': 4, 'Java,': 1, 'C++,': 1, 'PHP,': 1, 'Ruby,': 1, 'Basic,': 1, 'Perl,': 1, 'JavaScript,': 1, 'more.': 1, 'actual': 3, 'inside': 1, '(CPU)': 1, 'does': 3, 'understands': 1, 'machine': 14, 'Machine': 2, 'frankly': 1, 'tiresome': 1, 'represented': 1, 'zeros': 2, 'ones.': 1, 'seems': 4, 'surface,': 1, 'given': 1, 'ones,': 1, 'its': 9, 'far': 1, 'intricate': 1, 'ever': 1, 'Instead': 1, 'build': 1, 'various': 1, 'translators': 3, 'allow': 2, 'convert': 1, 'execution': 1, 'Since': 1, 'tied': 1, 'hardware,': 1, 'types': 3, 'hardware.': 1, 'Programs': 1, 'moved': 1, 'recompiling': 1, 'code': 10, 'create': 2, 'machine.': 1, 'fall': 1, 'general': 2, 'categories:': 1, '(one)': 1, 'interpreters': 1, '(two)': 1, 'compilers.': 1, 'An': 1, 'reads': 1, 'source': 8, 'parses': 1, 'code,': 1, 'interprets': 1, 'fly.': 1, 'running': 1, 'interactively,': 1, '(a': 1, 'sentence)': 1, 'processes': 1, 'immediately': 1, 'another': 2, 'Some': 1, 'lines': 3, 'remember': 2, 'value': 9, 'later.': 3, 'pick': 1, 'remembered': 2, 'symbolic': 1, 'term': 1, 'variable': 1, 'refer': 2, 'labels': 1, 'data.': 1, 'six': 3, 'label': 1, 'x': 2, 'verify': 1, 'multiply': 1, 'seven': 1, 'newly': 1, 'computed': 1, 'y.': 2, 'Then': 4, 'currently': 2, 'Even': 2, 'though': 1, 'typing': 2, 'commands': 2, 'treating': 1, 'ordered': 1, 'sequence': 3, 'statements': 7, 'later': 2, 'created': 1, 'earlier': 3, 'statements.': 2, 'paragraph': 2, 'four': 1, 'logical': 1, 'meaningful': 1, 'order.': 1, 'nature': 1, 'shown': 1, 'above.': 1, 'A': 6, 'handed': 1, 'entire': 1, 'file,': 4, 'runs': 1, 'process': 1, 'translate': 1, 'puts': 1, 'resulting': 1, 'file': 6, 'execution.': 1, 'system,': 1, 'executable': 4, 'suffix': 2, '.exe': 1, '.dll': 1, 'which': 2, 'stand': 1, 'dynamic': 1, 'link': 1, 'library': 1, 'respectively.': 1, 'Linux': 1, 'Macintosh,': 1, 'marks': 1, 'executable.': 1, 'open': 1, 'editor,': 1, 'crazy': 1, 'unreadable:': 1, 'compilers': 2, 'C.': 2, 'discussion': 1, 'interpreters,': 1, 'wondering': 1, 'bit': 4, 'itself.': 1, 'in?': 1, 'Is': 1, 'compiled': 2, 'language?': 1, 'python,': 1, 'exactly': 2, 'happening?': 1, 'www.python.org': 1, 'working': 1, 'code.': 3, 'itself': 2, 'installed': 2, 'vendor': 1, 'it),': 1, 'copied': 1, 'machine-code': 1, 'copy': 1, 'translated': 1, 'onto': 1, 'system.': 1, 'Windows,': 1, 'file.': 5, 'sometimes': 2, 'pays': 1, 'answer': 1, 'little': 2, 'nagging': 1, 'questions': 1, 'right': 4, 'beginning.': 1, 'Typing': 1, 'experiment': 1, 'features,': 1, 'recommended': 1, 'problems.': 1, 'editor': 1, 'script.': 2, 'By': 3, 'convention,': 1, 'scripts': 1, '.py.': 1, 'script': 2, 'To': 1, 'execute': 2, 'script,': 1, 'Unix': 1, 'window,': 1, 'hello.py': 3, 'prompting': 1, 'interactively.': 1, 'quit()': 1, 'knows': 2, 'stop': 1, 'reaches': 1, 'program?': 1, 'definition': 1, 'basic': 2, 'been': 1, 'crafted': 1, 'something.': 1, 'one-line': 1, 'particularly': 2, 'strictest': 1, 'definition,': 1, 'easiest': 2, 'thinking': 1, 'solve,': 1, 'looking': 5, 'Lets': 1, 'Social': 1, 'Computing': 1, 'research': 1, 'Facebook': 2, 'posts': 2, 'interested': 1, 'frequently': 1, 'series': 1, 'posts.': 1, 'stream': 1, 'pore': 1, 'common': 4, 'word,': 1, 'long': 1, 'mistake': 6, 'prone.': 1, 'smart': 1, 'handle': 1, 'task': 2, 'accurately': 1, 'spend': 1, 'weekend': 1, 'fun.': 1, 'clown': 1, 'car.': 1, 'Look': 2, 'occurs.': 1, 'imagine': 1, 'millions': 1, 'text.': 2, 'Frankly': 1, 'quicker': 1, 'count': 1, 'manually': 1, 'scan': 1, 'better': 2, 'news': 1, 'came': 1, 'wrote': 1, 'tested': 1, 'am': 2, 'save': 1, 'through': 3, 'Chapter': 1, 'ten': 1, 'fully': 2, 'awesome': 1, 'techniques': 1, 'user,': 1, 'marvel': 1, 'cleverness': 1, 'saved': 1, 'manual': 1, 'effort.': 1, 'words.py': 1, 'run': 2, 'download': 1, 'http://www.py4e.com/code/': 1, 'it.': 4, 'intermediary': 1, 'user)': 1, 'programmer).': 1, 'exchange': 1, 'useful': 3, 'instruction': 1, 'sequences': 1, '(i.e.,': 1, 'programs)': 1, 'anyone': 1, 'installs': 1, 'neither': 1, 'communicating': 1, 'building': 3, 'blocks': 1, 'next': 2, 'vocabulary,': 1, 'structure,': 2, 'capabilities': 2, 'compose': 1, 'together': 3, 'low-level': 1, 'conceptual': 1, 'constructs': 1, 'description': 5, 'Get': 1, 'outside': 1, 'world.': 1, 'sensor': 1, 'microphone': 1, 'GPS.': 1, 'initial': 1, 'input': 1, 'come': 2, 'keyboard.': 1, 'Display': 1, 'results': 1, 'screen': 1, 'device': 1, 'speaker': 1, 'play': 1, 'Perform': 2, 'after': 1, 'order': 2, 'encountered': 1, 'Check': 1, 'certain': 1, 'conditions': 1, 'skip': 1, 'repeatedly,': 1, 'variation.': 1, 'Write': 1, 'reuse': 1, 'needed': 1, 'throughout': 1, 'sounds': 1, 'course': 2, 'never': 1, 'simple.': 1, 'saying': 1, 'walking': 2, 'putting': 1, 'foot': 1, 'front': 1, 'other.': 1, 'composing': 1, 'weaving': 1, 'elements': 1, 'produce': 1, 'users.': 1, 'above': 1, 'uses': 1, 'one.': 1, 'possibly': 1, 'go': 3, 'wrong?': 1, 'earliest': 1, 'conversations': 1, 'precisely': 1, 'smallest': 1, 'deviation': 1, 'cause': 1, 'Beginning': 1, 'leaves': 1, 'room': 1, 'errors': 3, 'evidence': 1, 'mean,': 1, 'hateful,': 1, 'cruel.': 1, 'else,': 1, 'personally': 1, 'holds': 1, 'grudge': 1, 'against': 1, 'them.': 1, 'Because': 1, 'grudge,': 1, 'takes': 2, 'perfectly': 2, 'rejects': 1, 'unfit': 1, 'torment': 1, 'us.': 1, 'gained': 1, 'arguing': 1, 'tool.': 1, 'emotions': 1, 'happy': 1, 'serve': 1, 'whenever': 1, 'Its': 1, 'messages': 1, 'sound': 1, 'harsh,': 1, 'help.': 1, 'looked': 1, 'typed,': 1, 'entered.': 1, 'loving': 1, 'unconditionally,': 1, 'key': 1, 'understands,': 1, 'sweet': 1, '(>>>),': 1, 'waiting': 1, 'understands.': 1, 'says': 2, 'SyntaxError:': 1, 'invalid': 1, 'syntax,': 1, 'wagging': 1, 'tail': 1, 'saying,': 1, 'seemed': 1, 'meant,': 1, '(>>>).': 1, 'sophisticated,': 1, 'errors:': 1, 'fix.': 1, 'violated': 1, 'rules': 1, 'character': 2, 'noticed': 2, 'confused.': 2, 'tricky': 1, 'fixing': 1, 'indicates': 1, 'investigation.': 1, 'logic': 2, 'relate': 1, 'another.': 1, 'be,': 1, 'drink': 1, 'water': 1, 'bottle,': 1, 'backpack,': 1, 'library,': 1, 'top': 1, 'back': 3, 'bottle.': 1, 'semantic': 2, 'steps': 1, 'perfect': 1, 'order,': 1, 'do.': 1, 'directions': 2, 'restaurant': 2, 'said,': 1, '...when': 1, 'reach': 1, 'intersection': 1, 'gas': 3, 'station,': 1, 'mile': 2, 'red': 1, 'left.': 1, 'friend': 1, 'late': 1, 'calls': 1, 'farm': 1, 'around': 1, 'behind': 1, 'barn,': 1, 'sign': 1, 'restaurant.': 1, 'station?': 1, 'perfectly,': 1, 'down,': 1, 'station.': 1, 'sorry,': 1, 'my': 1, 'correct,': 1, 'sadly': 1, 'contained': 1, 'undetected': 1, 'error..': 1, 'Again': 1, 'errors,': 1, 'merely': 1, 'hardest': 1, 'asked.': 1, 'journey': 1, 'progress': 2, 'afraid': 1, 'concepts': 2, 'seem': 1, 'fit': 1, 'well': 1, 'speak,': 1, 'years': 3, 'made': 1, 'cute': 1, 'gurgling': 1, 'noises.': 1, 'OK': 1, 'took': 3, 'months': 1, 'move': 2, 'paragraphs,': 1, 'interesting': 1, 'complete': 1, 'short': 1, 'own.': 1, 'rapidly,': 1, 'chapters.': 1, 'absorb': 2, 'before': 1, 'natural.': 1, 'leads': 1, 'confusion': 1, 'visit': 1, 'revisit': 1, 'topics': 1, 'big': 2, 'picture': 1, 'defining': 1, 'tiny': 1, 'fragments': 1, 'picture.': 1, 'linearly,': 1, 'taking': 1, 'linear': 1, 'fashion,': 1, 'hesitate': 1, 'nonlinear': 1, 'approach': 1, 'material.': 1, 'forwards': 1, 'backwards': 1, 'light': 1, 'touch.': 1, 'skimming': 1, 'advanced': 1, 'material': 4, 'details,': 1, 'why?': 1, 'reviewing': 1, 'previous': 1, 'redoing': 1, 'exercises,': 1, 'learned': 1, 'lot': 1, 'staring': 2, 'impenetrable.': 1, 'Usually': 1, 'wonderful': 1, 'Ah': 1, 'Hah!': 1, 'moments': 1, 'pounding': 1, 'away': 2, 'rock': 1, 'hammer': 1, 'chisel': 1, 'step': 1, 'indeed': 1, 'beautiful': 1, 'sculpture.': 1, 'hard,': 1, 'staying': 1, 'night': 1, 'Take': 1, 'break,': 1, 'nap,': 1, 'snack,': 1, 'dog),': 1, 'fresh': 1, 'eyes.': 1, 'assure': 1, 'elegant': 1}\n"
          ],
          "name": "stdout"
        }
      ]
    },
    {
      "cell_type": "code",
      "metadata": {
        "id": "YBi_IWkzKlMm",
        "colab_type": "code",
        "colab": {
          "base_uri": "https://localhost:8080/",
          "height": 35
        },
        "outputId": "da5b7550-9201-48d1-b06d-fce2c733239c"
      },
      "source": [
        "import requests\n",
        "\n",
        "### 빈출 상위 10개 단어 찾기\n",
        "\n",
        "## crown file : https://www.py4e.com/code3/clown.txt\n",
        "## intro file : https://www.py4e.com/code3/intro.txt\n",
        "address = [\"https://www.py4e.com/code3/clown.txt\", \"https://www.py4e.com/code3/intro.txt\"]\n",
        "\n",
        "\n",
        "response = requests.get(address[1])\n",
        "lines = response.text\n",
        "\n",
        "#############################\n",
        "\n",
        "words = lines.rstrip()\n",
        "words = words.split()\n",
        "\n",
        "di = dict()\n",
        "\n",
        "for w in words:\n",
        "    # If the key is not there the count is zero\n",
        "    \n",
        "    #------------\n",
        "    #oldcount = di.get(w,0)\n",
        "    #print(w, 'old', oldcount)\n",
        "    #newcount = oldcount + 1\n",
        "    ###di[w] = newcount\n",
        "    #---------------\n",
        "    \n",
        "    # idiom : retieve/create/update counter\n",
        "    di[w] = di.get(w, 0) + 1 # 위의 네 줄을 한 줄에 표시 가능\n",
        "\n",
        "    #print(w, 'new',di[w])\n",
        "    \n",
        "# print(di)\n",
        "############# 여기까지 하면 횟수는 나오지만 정렬은 안됨...\n",
        "\n",
        "## now we want to find the most common word\n",
        "\n",
        "best = sorted( [ (v, k) for k, v in di.items()], reverse = True)[0] # list comprehension\n",
        "(count, word) = best\n",
        "print(\"word:\", word, \" / count:\", count)"
      ],
      "execution_count": 64,
      "outputs": [
        {
          "output_type": "stream",
          "text": [
            "word: the  / count: 226\n"
          ],
          "name": "stdout"
        }
      ]
    },
    {
      "cell_type": "markdown",
      "metadata": {
        "id": "l98qFxd1MLfX",
        "colab_type": "text"
      },
      "source": [
        "## 상위 10개 단어 찾기"
      ]
    },
    {
      "cell_type": "code",
      "metadata": {
        "id": "6wSRuPVHMLQe",
        "colab_type": "code",
        "colab": {
          "base_uri": "https://localhost:8080/",
          "height": 197
        },
        "outputId": "5e899513-346f-4ca9-c559-e92ac9b57fd9"
      },
      "source": [
        "### 빈출 상위 10개 단어 찾기\n",
        "import requests\n",
        "\n",
        "address = [\"https://www.py4e.com/code3/clown.txt\", \"https://www.py4e.com/code3/intro.txt\"]\n",
        "response = requests.get(address[1])\n",
        "lines = response.text\n",
        "\n",
        "#############################\n",
        "\n",
        "counts = dict()\n",
        "\n",
        "words = lines.split()\n",
        "for word in words:\n",
        "    counts[word] = counts.get(word, 0) + 1\n",
        "    \n",
        "##-------------  이부분은 람다로 해결 가능\n",
        "lst = list()\n",
        "for key, val in counts.items():\n",
        "    newtup = (val, key)\n",
        "    lst.append(newtup)\n",
        "\n",
        "###----------------\n",
        "  \n",
        "    \n",
        "lst = sorted(lst, reverse = True)\n",
        "\n",
        "for val, key in lst[:10]:\n",
        "    print(key, val)"
      ],
      "execution_count": 73,
      "outputs": [
        {
          "output_type": "stream",
          "text": [
            "the 226\n",
            "to 204\n",
            "a 165\n",
            "and 160\n",
            "you 130\n",
            "is 112\n",
            "of 103\n",
            "Python 85\n",
            "that 68\n",
            "in 66\n"
          ],
          "name": "stdout"
        }
      ]
    }
  ]
}